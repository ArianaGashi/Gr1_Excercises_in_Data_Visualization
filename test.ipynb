{
 "cells": [
  {
   "cell_type": "code",
   "execution_count": null,
   "metadata": {},
   "outputs": [],
   "source": [
    "%pip install pandas"
   ]
  },
  {
   "cell_type": "code",
   "execution_count": 24,
   "metadata": {},
   "outputs": [],
   "source": [
    "import pandas as pd"
   ]
  },
  {
   "cell_type": "code",
   "execution_count": 40,
   "metadata": {},
   "outputs": [],
   "source": [
    "cleaned_test = pd.read_csv('data/cleaned_test.csv')\n",
    "encoded_cleaned_test = pd.read_csv('data/encoded_cleaned_test.csv')\n",
    "updated = pd.read_csv('data/updated.csv')\n"
   ]
  },
  {
   "cell_type": "code",
   "execution_count": 41,
   "metadata": {},
   "outputs": [
    {
     "name": "stdout",
     "output_type": "stream",
     "text": [
      "<class 'pandas.core.frame.DataFrame'>\n",
      "RangeIndex: 11399 entries, 0 to 11398\n",
      "Data columns (total 20 columns):\n",
      " #   Column                       Non-Null Count  Dtype  \n",
      "---  ------                       --------------  -----  \n",
      " 0   ID                           11399 non-null  object \n",
      " 1   Delivery_person_ID           11399 non-null  object \n",
      " 2   Delivery_person_Age          10908 non-null  float64\n",
      " 3   Delivery_person_Ratings      10892 non-null  float64\n",
      " 4   Restaurant_latitude          11399 non-null  float64\n",
      " 5   Restaurant_longitude         11399 non-null  float64\n",
      " 6   Delivery_location_latitude   11399 non-null  float64\n",
      " 7   Delivery_location_longitude  11399 non-null  float64\n",
      " 8   Order_Date                   11399 non-null  object \n",
      " 9   Time_Orderd                  10955 non-null  object \n",
      " 10  Time_Order_picked            11399 non-null  object \n",
      " 11  Weather                      11241 non-null  object \n",
      " 12  Road_traffic_density         11245 non-null  object \n",
      " 13  Vehicle_condition            11399 non-null  int64  \n",
      " 14  Type_of_order                11399 non-null  object \n",
      " 15  Type_of_vehicle              11399 non-null  object \n",
      " 16  multiple_deliveries          11161 non-null  float64\n",
      " 17  Festival                     11334 non-null  object \n",
      " 18  City                         11075 non-null  object \n",
      " 19  Name:                        11399 non-null  object \n",
      "dtypes: float64(7), int64(1), object(12)\n",
      "memory usage: 1.7+ MB\n"
     ]
    }
   ],
   "source": [
    "cleaned_test.info()\n",
    "\n",
    "\n"
   ]
  },
  {
   "cell_type": "code",
   "execution_count": 27,
   "metadata": {},
   "outputs": [
    {
     "name": "stdout",
     "output_type": "stream",
     "text": [
      "<class 'pandas.core.frame.DataFrame'>\n",
      "RangeIndex: 11399 entries, 0 to 11398\n",
      "Data columns (total 20 columns):\n",
      " #   Column                       Non-Null Count  Dtype  \n",
      "---  ------                       --------------  -----  \n",
      " 0   ID                           11399 non-null  object \n",
      " 1   Delivery_person_ID           11399 non-null  object \n",
      " 2   Delivery_person_Age          10908 non-null  float64\n",
      " 3   Delivery_person_Ratings      10892 non-null  float64\n",
      " 4   Restaurant_latitude          11399 non-null  float64\n",
      " 5   Restaurant_longitude         11399 non-null  float64\n",
      " 6   Delivery_location_latitude   11399 non-null  float64\n",
      " 7   Delivery_location_longitude  11399 non-null  float64\n",
      " 8   Order_Date                   11399 non-null  object \n",
      " 9   Time_Orderd                  10955 non-null  object \n",
      " 10  Time_Order_picked            11399 non-null  object \n",
      " 11  Weather                      11399 non-null  int64  \n",
      " 12  Road_traffic_density         11399 non-null  int64  \n",
      " 13  Vehicle_condition            11399 non-null  int64  \n",
      " 14  Type_of_order                11399 non-null  int64  \n",
      " 15  Type_of_vehicle              11399 non-null  object \n",
      " 16  multiple_deliveries          11161 non-null  float64\n",
      " 17  Festival                     11334 non-null  float64\n",
      " 18  City                         11399 non-null  object \n",
      " 19  Name:                        11399 non-null  object \n",
      "dtypes: float64(8), int64(4), object(8)\n",
      "memory usage: 1.7+ MB\n"
     ]
    }
   ],
   "source": [
    "\n",
    "encoded_cleaned_test.info()"
   ]
  },
  {
   "cell_type": "code",
   "execution_count": 21,
   "metadata": {},
   "outputs": [
    {
     "name": "stdout",
     "output_type": "stream",
     "text": [
      "<class 'pandas.core.frame.DataFrame'>\n",
      "RangeIndex: 2442 entries, 0 to 2441\n",
      "Data columns (total 20 columns):\n",
      " #   Column                       Non-Null Count  Dtype  \n",
      "---  ------                       --------------  -----  \n",
      " 0   Unnamed: 0                   2442 non-null   int64  \n",
      " 1   ID                           2442 non-null   object \n",
      " 2   Delivery_person_ID           2442 non-null   object \n",
      " 3   Delivery_person_Age          2442 non-null   int64  \n",
      " 4   Delivery_person_Ratings      2348 non-null   float64\n",
      " 5   Restaurant_latitude          2442 non-null   float64\n",
      " 6   Restaurant_longitude         2442 non-null   float64\n",
      " 7   Delivery_location_latitude   2442 non-null   float64\n",
      " 8   Delivery_location_longitude  2442 non-null   float64\n",
      " 9   Time_Orderd                  2353 non-null   object \n",
      " 10  Time_Order_picked            2442 non-null   object \n",
      " 11  Weatherconditions            2442 non-null   int64  \n",
      " 12  Road_traffic_density         2442 non-null   int64  \n",
      " 13  Vehicle_condition            2442 non-null   int64  \n",
      " 14  Type_of_order                2442 non-null   int64  \n",
      " 15  Type_of_vehicle              2442 non-null   int64  \n",
      " 16  multiple_deliveries          2388 non-null   float64\n",
      " 17  Festival                     2442 non-null   int64  \n",
      " 18  City                         2442 non-null   int64  \n",
      " 19  Time_taken(min)              2442 non-null   float64\n",
      "dtypes: float64(7), int64(9), object(4)\n",
      "memory usage: 381.7+ KB\n"
     ]
    }
   ],
   "source": [
    "updated.info()"
   ]
  },
  {
   "cell_type": "code",
   "execution_count": 42,
   "metadata": {},
   "outputs": [
    {
     "data": {
      "text/plain": [
       "ID                               0\n",
       "Delivery_person_ID               0\n",
       "Delivery_person_Age            491\n",
       "Delivery_person_Ratings        507\n",
       "Restaurant_latitude              0\n",
       "Restaurant_longitude             0\n",
       "Delivery_location_latitude       0\n",
       "Delivery_location_longitude      0\n",
       "Order_Date                       0\n",
       "Time_Orderd                    444\n",
       "Time_Order_picked                0\n",
       "Weather                          0\n",
       "Road_traffic_density             0\n",
       "Vehicle_condition                0\n",
       "Type_of_order                    0\n",
       "Type_of_vehicle                  0\n",
       "multiple_deliveries            238\n",
       "Festival                        65\n",
       "City                             0\n",
       "Name:                            0\n",
       "dtype: int64"
      ]
     },
     "execution_count": 42,
     "metadata": {},
     "output_type": "execute_result"
    }
   ],
   "source": [
    "encoded_cleaned_test.isnull().sum()"
   ]
  },
  {
   "cell_type": "code",
   "execution_count": 43,
   "metadata": {},
   "outputs": [
    {
     "data": {
      "text/plain": [
       "(11399, 20)"
      ]
     },
     "execution_count": 43,
     "metadata": {},
     "output_type": "execute_result"
    }
   ],
   "source": [
    "encoded_cleaned_test.shape"
   ]
  },
  {
   "cell_type": "code",
   "execution_count": 44,
   "metadata": {},
   "outputs": [],
   "source": [
    "columns_to_remove = ['Restaurant_latitude', 'Restaurant_longitude', 'Delivery_location_latitude', 'Delivery_location_longitude', 'Time_Order_picked', 'Weather', 'Vehicle_condition', 'Type_of_vehicle', 'multiple_deliveries', 'Festival', 'Name:', 'City']\n",
    "encoded_cleaned_test.drop(columns=columns_to_remove, inplace=True)"
   ]
  },
  {
   "cell_type": "code",
   "execution_count": 31,
   "metadata": {},
   "outputs": [
    {
     "data": {
      "text/plain": [
       "(11399, 8)"
      ]
     },
     "execution_count": 31,
     "metadata": {},
     "output_type": "execute_result"
    }
   ],
   "source": [
    "encoded_cleaned_test.shape"
   ]
  },
  {
   "cell_type": "code",
   "execution_count": 45,
   "metadata": {},
   "outputs": [],
   "source": [
    "encoded_cleaned_test.to_csv('data_preprocessed/encoded_cleaned_resolved.csv', index=False)"
   ]
  },
  {
   "cell_type": "code",
   "execution_count": 46,
   "metadata": {},
   "outputs": [],
   "source": [
    "columns_to_remove = ['Delivery_person_Age', 'Delivery_person_Ratings']\n",
    "encoded_cleaned_test.drop(columns=columns_to_remove, inplace=True)"
   ]
  },
  {
   "cell_type": "code",
   "execution_count": 47,
   "metadata": {},
   "outputs": [],
   "source": [
    "encoded_cleaned_test.to_csv('data_preprocessed/encoded_cleaned_resolved.csv', index=False)"
   ]
  },
  {
   "cell_type": "code",
   "execution_count": 48,
   "metadata": {},
   "outputs": [
    {
     "data": {
      "text/plain": [
       "ID                        0\n",
       "Delivery_person_ID        0\n",
       "Order_Date                0\n",
       "Time_Orderd             444\n",
       "Road_traffic_density      0\n",
       "Type_of_order             0\n",
       "dtype: int64"
      ]
     },
     "execution_count": 48,
     "metadata": {},
     "output_type": "execute_result"
    }
   ],
   "source": [
    "encoded_cleaned_test.isnull().sum()"
   ]
  },
  {
   "cell_type": "code",
   "execution_count": 49,
   "metadata": {},
   "outputs": [
    {
     "data": {
      "text/plain": [
       "(10955, 6)"
      ]
     },
     "execution_count": 49,
     "metadata": {},
     "output_type": "execute_result"
    }
   ],
   "source": [
    "encoded_cleaned_test.dropna(subset=['Time_Orderd'], inplace=True)\n",
    "encoded_cleaned_test.shape"
   ]
  },
  {
   "cell_type": "code",
   "execution_count": 50,
   "metadata": {},
   "outputs": [
    {
     "data": {
      "text/plain": [
       "ID                      0\n",
       "Delivery_person_ID      0\n",
       "Order_Date              0\n",
       "Time_Orderd             0\n",
       "Road_traffic_density    0\n",
       "Type_of_order           0\n",
       "dtype: int64"
      ]
     },
     "execution_count": 50,
     "metadata": {},
     "output_type": "execute_result"
    }
   ],
   "source": [
    "encoded_cleaned_test.isnull().sum()"
   ]
  },
  {
   "cell_type": "code",
   "execution_count": 53,
   "metadata": {},
   "outputs": [],
   "source": [
    "encoded_cleaned_test.drop(encoded_cleaned_test[encoded_cleaned_test['Time_Orderd'].apply(lambda x: isinstance(x, float))].index, inplace=True)"
   ]
  },
  {
   "cell_type": "code",
   "execution_count": 54,
   "metadata": {},
   "outputs": [],
   "source": [
    "encoded_cleaned_test.to_csv('data_preprocessed/encoded_cleaned_resolved.csv', index=False)"
   ]
  }
 ],
 "metadata": {
  "kernelspec": {
   "display_name": "Python 3",
   "language": "python",
   "name": "python3"
  },
  "language_info": {
   "codemirror_mode": {
    "name": "ipython",
    "version": 3
   },
   "file_extension": ".py",
   "mimetype": "text/x-python",
   "name": "python",
   "nbconvert_exporter": "python",
   "pygments_lexer": "ipython3",
   "version": "3.9.13"
  }
 },
 "nbformat": 4,
 "nbformat_minor": 2
}
